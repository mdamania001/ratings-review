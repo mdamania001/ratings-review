{
 "cells": [
  {
   "cell_type": "code",
   "execution_count": 10,
   "metadata": {},
   "outputs": [
    {
     "name": "stdout",
     "output_type": "stream",
     "text": [
      "Name- Manali Haresh Damania\n",
      "Andrewid- mdamania\n"
     ]
    }
   ],
   "source": [
    "print(\"Name- Manali Haresh Damania\")\n",
    "print(\"Andrewid- mdamania\")"
   ]
  },
  {
   "cell_type": "code",
   "execution_count": 32,
   "metadata": {},
   "outputs": [],
   "source": [
    "#1.i.parse_hms(x)\n",
    "# The function below takes string x and splits the string into list and depending on the length of the list it carries out the \n",
    "#list comprehension"
   ]
  },
  {
   "cell_type": "code",
   "execution_count": 91,
   "metadata": {},
   "outputs": [],
   "source": [
    "def parse_hms(x):\n",
    "    new_list=[]\n",
    "    if len(x.split(':'))==3:\n",
    "        new_list=x.split(':')\n",
    "    elif len(x.split(':'))==2:\n",
    "        l='0:'+x\n",
    "        new_list=[i for i in l.split(':')]\n",
    "    else:\n",
    "        l='0:0:'+x\n",
    "        new_list=[i for i in l.split(':')]\n",
    "    v=(new_list[0],new_list[1],new_list[2])\n",
    "    return v"
   ]
  },
  {
   "cell_type": "code",
   "execution_count": 93,
   "metadata": {},
   "outputs": [],
   "source": [
    "#Q1.ii. The function below  takes the values in hours, minutes and seconds and computes the total number of seconds"
   ]
  },
  {
   "cell_type": "markdown",
   "metadata": {},
   "source": [
    "## print(\"1. ii. hms_to_seconds takes three arguments, hours, minutes, and seconds and returns the equivalent total numberof seconds. This is a very easy function—a 1 liner.\")"
   ]
  },
  {
   "cell_type": "code",
   "execution_count": 94,
   "metadata": {},
   "outputs": [],
   "source": [
    "def hms_to_seconds(x, y, z):\n",
    "    totalSeconds=x*3600+y*60+z\n",
    "    return totalSeconds        "
   ]
  },
  {
   "cell_type": "code",
   "execution_count": 95,
   "metadata": {},
   "outputs": [],
   "source": [
    "#Q1.iii. takes the number and computes the hours, minutes and seconds. if the vector is zero it will return a vector of zeros else \n",
    "#it will compute the values of hours,minutes and seconds"
   ]
  },
  {
   "cell_type": "code",
   "execution_count": 96,
   "metadata": {},
   "outputs": [],
   "source": [
    "import math\n",
    "def seconds_to_hms(x):\n",
    "    if(x==0):\n",
    "        v=(0,0,0)\n",
    "    else:\n",
    "        a=math.floor(x/3600)\n",
    "        b=math.floor((x%3600)/60)\n",
    "        c=math.floor((x%3600)%60)\n",
    "        v=(a,b,c)\n",
    "    return v"
   ]
  },
  {
   "cell_type": "code",
   "execution_count": 97,
   "metadata": {},
   "outputs": [],
   "source": [
    "#Q1.iv. first converts the string to hh:mm:ss format, then computes the seconds and then adds the seconds and then again computes \n",
    "# the seconds to hh:mm:ss format"
   ]
  },
  {
   "cell_type": "code",
   "execution_count": 98,
   "metadata": {},
   "outputs": [],
   "source": [
    "import math\n",
    "def sum_hms(x):\n",
    "    secSum=0\n",
    "    new_list=[]\n",
    "    new_list=[parse_hms(i) for i in x]\n",
    "    a=[hms_to_seconds(int(i),int(j),int(k)) for i,j,k in new_list] #hms_to_seconds(i)\n",
    "    v=seconds_to_hms(sum(a))\n",
    "    return v\n",
    "    "
   ]
  },
  {
   "cell_type": "code",
   "execution_count": 99,
   "metadata": {},
   "outputs": [],
   "source": [
    "#2. Zeller's Congruence\n",
    "#According to the wikipedia's definition, the check whether the month is January and Febraury is done before and then the Kth and\n",
    "# Jth are computed using those"
   ]
  },
  {
   "cell_type": "code",
   "execution_count": 100,
   "metadata": {},
   "outputs": [],
   "source": [
    "def zeller(x,y,z):\n",
    "    if y<=2:\n",
    "        y=y+12\n",
    "        x=x-1\n",
    "    q=z\n",
    "    m=y\n",
    "    K=x%100\n",
    "    J=x//100\n",
    "    h=(q+(13*(m+1)//5)+K+(K//4)+(J//4)-2*J)%7\n",
    "    return h"
   ]
  },
  {
   "cell_type": "code",
   "execution_count": 101,
   "metadata": {},
   "outputs": [],
   "source": [
    "#Q3.a. dice()\n",
    "#The below function uses the randint function which randomly returns a number from 1 to 6"
   ]
  },
  {
   "cell_type": "code",
   "execution_count": 102,
   "metadata": {},
   "outputs": [],
   "source": [
    "from random import randint\n",
    "def dice():\n",
    "    p=randint(1,6)\n",
    "    return p"
   ]
  },
  {
   "cell_type": "code",
   "execution_count": 103,
   "metadata": {},
   "outputs": [],
   "source": [
    "#Q3.b.six_in_4()\n",
    "#The below funnction makes a list of 4 random integers and creates a new list based on the old list if it contains 6. Based on the \n",
    "#values in the new List it returns true or false"
   ]
  },
  {
   "cell_type": "code",
   "execution_count": 104,
   "metadata": {},
   "outputs": [],
   "source": [
    "def six_in_4():\n",
    "    myList=[dice(), dice(), dice(), dice()]\n",
    "    new_list = [i for i in myList if i==6]\n",
    "    if len(new_list)==0:\n",
    "        return False\n",
    "    else:\n",
    "        return True"
   ]
  },
  {
   "cell_type": "code",
   "execution_count": 105,
   "metadata": {},
   "outputs": [],
   "source": [
    "#Q3.c. two_six_in_24()\n",
    "# The below makes a list of 2 random integer and checks if both the integers are 6. If the value is 6 at an  index is a 6, \n",
    "# it adds it to the new list. Based on the length of the new list, it returns true or false"
   ]
  },
  {
   "cell_type": "code",
   "execution_count": 107,
   "metadata": {},
   "outputs": [],
   "source": [
    "def two_six_in_24():\n",
    "    final_list=[]\n",
    "    for l in range(1,24):\n",
    "        myList=[dice(), dice()]\n",
    "        final_list.append(myList)\n",
    "    new_list=[i for i in final_list if i==[6, 6]]\n",
    "    if len(new_list)>=1:\n",
    "        return True\n",
    "    else:\n",
    "        return False"
   ]
  },
  {
   "cell_type": "code",
   "execution_count": 108,
   "metadata": {},
   "outputs": [],
   "source": [
    "#Q3.the below function calls the six_in_4() and two_six_in_24() and adds the a value in the list if they return true\n",
    "#based on the number of values we calculate the probability of occurrence. Here the default value of n=1000.If no value is passed \n",
    "#while the function is called then n=1000 is considered else when a value of n is passed say 10000 it overwrites n's value"
   ]
  },
  {
   "cell_type": "code",
   "execution_count": 109,
   "metadata": {},
   "outputs": [],
   "source": [
    "def prob_question(n=1000):\n",
    "    if n!=10000:\n",
    "        n=1000\n",
    "    my_list = list(range(1, n))\n",
    "    l=[i for i in my_list if two_six_in_24()]\n",
    "    m=[i for i in my_list if six_in_4()]\n",
    "    prob1=len(l)/n\n",
    "    prob2=len(m)/n\n",
    "    v=(prob1, prob2)\n",
    "    return v    "
   ]
  },
  {
   "cell_type": "code",
   "execution_count": 110,
   "metadata": {},
   "outputs": [
    {
     "data": {
      "text/plain": [
       "(0.4689, 0.5215)"
      ]
     },
     "execution_count": 110,
     "metadata": {},
     "output_type": "execute_result"
    }
   ],
   "source": [
    "prob_question(n=10000)# call the function"
   ]
  },
  {
   "cell_type": "code",
   "execution_count": null,
   "metadata": {},
   "outputs": [],
   "source": [
    "#Q4.i. File I/O and dictionaries\n",
    "# The file is opened and read line by line and split each line. ratings Tuple has the item_id and ratings. Based on the unique keys\n",
    "# if the key is already present then append it to the current list else create a new list"
   ]
  },
  {
   "cell_type": "code",
   "execution_count": 111,
   "metadata": {},
   "outputs": [],
   "source": [
    "def read_u_data(data_file='u.data', encoding='utf-8'):\n",
    "    d={}\n",
    "    item_id=[]\n",
    "    ratingsTuple=[]\n",
    "    all_content=[]\n",
    "    # the below code is referred from https://realpython.com/python-csv/\n",
    "    with open('u.data') as f:\n",
    "        for line in f.readlines():\n",
    "            a=line.split()\n",
    "            item_id.append(a[1])\n",
    "            ratingsTuple.append((a[1],a[2]))\n",
    "        setItem_id=set(item_id)\n",
    "        for i in ratingsTuple:\n",
    "            if i[0] in d.keys():\n",
    "                d[i[0]].append(int(i[1]))\n",
    "            else:\n",
    "                n=[int(i[1])]\n",
    "                d[i[0]]=n\n",
    "        return d"
   ]
  },
  {
   "cell_type": "code",
   "execution_count": null,
   "metadata": {},
   "outputs": [],
   "source": [
    "#4.ii. The based on each value of key, the average was computed based and stored in a dictionary"
   ]
  },
  {
   "cell_type": "code",
   "execution_count": 112,
   "metadata": {},
   "outputs": [],
   "source": [
    "def calculate_avg_u_data_rating(d):\n",
    "    v={}\n",
    "    for (key,value) in d.items():\n",
    "        v[key]=sum(value)/len(value)\n",
    "    return v"
   ]
  },
  {
   "cell_type": "code",
   "execution_count": 113,
   "metadata": {},
   "outputs": [],
   "source": [
    "#Q4.iii. the file has data for each movie which is different  and the first element of the line is stored as key and rest all as \n",
    "# the contents"
   ]
  },
  {
   "cell_type": "code",
   "execution_count": 114,
   "metadata": {},
   "outputs": [],
   "source": [
    "def read_u_item(data_file='u.item', encoding='latin-1'):\n",
    "    d={}\n",
    "    movie_id=[]\n",
    "    titleTuple=[]\n",
    "    all_content=[]\n",
    "    # the below code is referred from https://realpython.com/python-csv/\n",
    "    with open('u.item') as f:\n",
    "        for line in f.readlines():\n",
    "            a=line.split('|')\n",
    "            d[a[0]]=a[1:]\n",
    "        return d"
   ]
  },
  {
   "cell_type": "code",
   "execution_count": null,
   "metadata": {},
   "outputs": [],
   "source": [
    "#Q4.iv. l and m has the ratings and content. the sublist has 3 elements key, ratings and content. then the list is \n",
    "#written in a new file"
   ]
  },
  {
   "cell_type": "code",
   "execution_count": 116,
   "metadata": {},
   "outputs": [],
   "source": [
    "#reference for the below is taken from https://stackoverflow.com/questions/899103/writing-a-list-to-a-file-with-python\n",
    "from operator import itemgetter\n",
    "def write_ratings(u_data_avg, u_item, fname='movie-ratings.txt'):\n",
    "    c=dict()\n",
    "    final_list=[]\n",
    "    for (key,value) in u_data_avg.items():\n",
    "        l=u_data_avg.get(key)\n",
    "        l=round(l,2)\n",
    "        m=u_item.get(key)[0]\n",
    "        sublist=[key, l, m]\n",
    "        final_list.append(sublist)\n",
    "    final_list.sort(key=itemgetter(1), reverse=True)\n",
    "    with open(fname, 'w') as f:\n",
    "        for item in final_list:\n",
    "            f.write(item[0]+\"\\t\"+str(item[1])+\"\\t\"+item[2]+\"\\n\" )   \n",
    "    return final_list\n"
   ]
  },
  {
   "cell_type": "code",
   "execution_count": 117,
   "metadata": {},
   "outputs": [],
   "source": [
    "#Q5.Plot Stock Prices\n",
    "# Firstly, the function opens the csv file line by line, reads it and appends it to the list. The labels and title is set"
   ]
  },
  {
   "cell_type": "code",
   "execution_count": 118,
   "metadata": {},
   "outputs": [
    {
     "data": {
      "image/png": "[encoded data removed]",
      "text/plain": [
       "<Figure size 432x288 with 1 Axes>"
      ]
     },
     "metadata": {},
     "output_type": "display_data"
    }
   ],
   "source": [
    "import matplotlib.pyplot as plt\n",
    "%matplotlib inline\n",
    "\n",
    "#below code lines is taken from https://www.pythonforbeginners.com/systems-programming/using-the-csv-module-in-python/\n",
    "import csv\n",
    "with open('aapl.csv') as csv_file:\n",
    "    csv_reader = csv.reader(csv_file, delimiter=',')\n",
    "    line_count = 0\n",
    "    Adj_Close=[]\n",
    "    y=[]\n",
    "    for row in csv_reader:\n",
    "        if line_count>=1:\n",
    "            *other, Adj_Close, Volume=row\n",
    "            y.append(float(Adj_Close))\n",
    "        line_count+=1\n",
    "   \n",
    "    \n",
    "x=range(1, len(y)+1)\n",
    "plt.plot(x,y)\n",
    "plt.xlabel('Days')\n",
    "plt.title('Stock price of AAPL in 2016')\n",
    "plt.ylabel('Adj.Close Price')\n",
    "plt.show()"
   ]
  },
  {
   "cell_type": "code",
   "execution_count": 119,
   "metadata": {},
   "outputs": [],
   "source": [
    "#Q6. One hot encoding.\n",
    "#the function below takes a list as an input .The for loop makes a new array everytime and based on the index updates the value of array having all zeros.\n",
    "#and finally appends the first value of the \n"
   ]
  },
  {
   "cell_type": "code",
   "execution_count": 120,
   "metadata": {},
   "outputs": [
    {
     "data": {
      "text/plain": [
       "[['alpha', [1, 0, 0]], ['beta', [0, 1, 0]], ['gamma', [0, 0, 1]]]"
      ]
     },
     "execution_count": 120,
     "metadata": {},
     "output_type": "execute_result"
    }
   ],
   "source": [
    "def one_hot_encoding(x):\n",
    "    final_list=[]\n",
    "    final_list=[[0]*len(x) for i in x]\n",
    "    count=0\n",
    "    new_list=[]\n",
    "    for i in final_list:\n",
    "        i[count]=1\n",
    "        new_list.append([x[count],i])\n",
    "        count=count+1\n",
    "    return new_list"
   ]
  }
 ],
 "metadata": {
  "kernelspec": {
   "display_name": "Python 3",
   "language": "python",
   "name": "python3"
  },
  "language_info": {
   "codemirror_mode": {
    "name": "ipython",
    "version": 3
   },
   "file_extension": ".py",
   "mimetype": "text/x-python",
   "name": "python",
   "nbconvert_exporter": "python",
   "pygments_lexer": "ipython3",
   "version": "3.6.6"
  }
 },
 "nbformat": 4,
 "nbformat_minor": 2
}
